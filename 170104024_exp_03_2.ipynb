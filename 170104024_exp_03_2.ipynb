{
  "nbformat": 4,
  "nbformat_minor": 0,
  "metadata": {
    "colab": {
      "name": "170104024_exp_03_2.ipynb",
      "provenance": [],
      "collapsed_sections": []
    },
    "kernelspec": {
      "name": "python3",
      "display_name": "Python 3"
    },
    "language_info": {
      "name": "python"
    }
  },
  "cells": [
    {
      "cell_type": "code",
      "metadata": {
        "id": "jqDWVtOp07TQ"
      },
      "source": [
        "import numpy as np\n",
        "import pandas as pd\n",
        "import torch\n",
        "import torch.nn as nn\n",
        "import torch.nn.functional as F\n",
        "import torch.optim as optim\n",
        "from torch.utils.data import Dataset\n",
        "from torch.utils.data.sampler import SubsetRandomSampler\n",
        "from torchvision import datasets, transforms, models\n",
        "import os\n",
        "from os import path\n",
        "import matplotlib\n",
        "import matplotlib.pyplot as plt\n",
        "from PIL import Image"
      ],
      "execution_count": null,
      "outputs": []
    },
    {
      "cell_type": "code",
      "metadata": {
        "colab": {
          "base_uri": "https://localhost:8080/"
        },
        "id": "0Mp2krfvfbdv",
        "outputId": "73765172-2f21-4df8-daa8-39333722f710"
      },
      "source": [
        "from google.colab import drive\n",
        "drive.mount('/content/gdrive')"
      ],
      "execution_count": null,
      "outputs": [
        {
          "output_type": "stream",
          "name": "stdout",
          "text": [
            "Mounted at /content/gdrive\n"
          ]
        }
      ]
    },
    {
      "cell_type": "code",
      "metadata": {
        "id": "UFFJ-zZMflYS",
        "colab": {
          "base_uri": "https://localhost:8080/"
        },
        "outputId": "79b08088-684b-42cc-e493-7fa6cf41f15c"
      },
      "source": [
        " !unzip '/content/gdrive/MyDrive/CSE 4.2/Soft Comp Lab/Assignment 2/Dataset_2.zip'"
      ],
      "execution_count": null,
      "outputs": [
        {
          "output_type": "stream",
          "name": "stdout",
          "text": [
            "Archive:  /content/gdrive/MyDrive/CSE 4.2/Soft Comp Lab/Assignment 2/Dataset_2.zip\n",
            "   creating: Dataset_2/\n",
            "  inflating: Dataset_2/t10k-images-idx3-ubyte  \n",
            "  inflating: Dataset_2/t10k-labels-idx1-ubyte  \n",
            "  inflating: Dataset_2/train-images-idx3-ubyte  \n",
            "  inflating: Dataset_2/train-labels-idx1-ubyte  \n",
            "  inflating: Dataset_2/verification_test.csv  \n",
            "  inflating: Dataset_2/verification_train.csv  \n"
          ]
        }
      ]
    },
    {
      "cell_type": "code",
      "metadata": {
        "id": "0UliCJhbfnuh"
      },
      "source": [
        "train_csv = pd.read_csv('/content/Dataset_2/verification_train.csv')\n",
        "test_csv = pd.read_csv('/content/Dataset_2/verification_test.csv')"
      ],
      "execution_count": null,
      "outputs": []
    },
    {
      "cell_type": "code",
      "metadata": {
        "id": "8lnWSkT9bHq6"
      },
      "source": [
        "class FashionDataset(Dataset):\n",
        "    \"\"\"User defined class to build a datset using Pytorch class Dataset.\"\"\"\n",
        "    \n",
        "    def __init__(self, data, transform = None):\n",
        "        \"\"\"Method to initilaize variables.\"\"\" \n",
        "        self.fashion_MNIST = list(data.values)\n",
        "        self.transform = transform\n",
        "        \n",
        "        label = []\n",
        "        image = []\n",
        "        \n",
        "        for i in self.fashion_MNIST:\n",
        "             # first column is of labels.\n",
        "            label.append(i[0])\n",
        "            image.append(i[1:])\n",
        "        self.labels = np.asarray(label)\n",
        "        # Dimension of Images = 28 * 28 * 1. where height = width = 28 and color_channels = 1.\n",
        "        self.images = np.asarray(image).reshape(-1, 28, 28, 1).astype('float32')\n",
        "\n",
        "    def __getitem__(self, index):\n",
        "        label = self.labels[index]\n",
        "        image = self.images[index]\n",
        "        \n",
        "        if self.transform is not None:\n",
        "            image = self.transform(image)\n",
        "\n",
        "        return image, label\n",
        "\n",
        "    def __len__(self):\n",
        "        return len(self.images)"
      ],
      "execution_count": null,
      "outputs": []
    },
    {
      "cell_type": "code",
      "metadata": {
        "id": "AwEAynkizMD9"
      },
      "source": [
        "# Transform data into Tensor that has a range from 0 to 1\n",
        "train_set = FashionDataset(train_csv, transform=transforms.Compose([transforms.ToTensor()]))\n",
        "test_set = FashionDataset(test_csv, transform=transforms.Compose([transforms.ToTensor()]))"
      ],
      "execution_count": null,
      "outputs": []
    },
    {
      "cell_type": "markdown",
      "metadata": {
        "id": "WEJ9JjOXKwHX"
      },
      "source": [
        "# Experiment 03_2"
      ]
    },
    {
      "cell_type": "code",
      "metadata": {
        "id": "fWpJXBE-hCIz"
      },
      "source": [
        "# Hyperparameters\n",
        "batch_size = 200\n",
        "num_iters = 35000\n",
        "input_dim = 28*28 # num_features = 784\n",
        "num_hidden = 600\n",
        "output_dim = 10\n",
        "\n",
        "learning_rate = 0.01\n",
        "\n",
        "\n",
        "num_epochs = num_iters / (len(train_set) / batch_size)\n",
        "num_epochs = int(num_epochs)\n",
        "\n",
        "iteration_loss = []\n",
        "accuracy_l = []\n",
        "\n",
        "# Device\n",
        "device = torch.device(\"cuda:0\" if torch.cuda.is_available() else \"cpu\")\n",
        "\n",
        "\n",
        "train_loader = torch.utils.data.DataLoader(dataset=train_set, \n",
        "                                           batch_size=batch_size, \n",
        "                                           shuffle=True)   # It's better to shuffle the whole training dataset! \n",
        "\n",
        "test_loader = torch.utils.data.DataLoader(dataset=test_set, \n",
        "                                          batch_size=batch_size, \n",
        "                                          shuffle=False) \n",
        "\n",
        "class DeepNeuralNetworkModel(nn.Module):\n",
        "    def __init__(self, input_size, num_classes, num_hidden):\n",
        "        super().__init__()\n",
        "        ### 1st hidden layer: 784 --> 100\n",
        "        self.linear_1 = nn.Linear(input_size, num_hidden)\n",
        "        ### Non-linearity in 1st hidden layer\n",
        "        self.relu_1 = nn.ReLU()\n",
        "\n",
        "        ### 2nd hidden layer: 100 --> 100\n",
        "        self.linear_2 = nn.Linear(num_hidden, num_hidden)\n",
        "        ### Non-linearity in 2nd hidden layer\n",
        "        self.relu_2 = nn.ReLU()\n",
        "\n",
        "        ### 3rd hidden layer: 100 --> 100\n",
        "        self.linear_3 = nn.Linear(num_hidden, num_hidden)\n",
        "        ### Non-linearity in 3rd hidden layer\n",
        "        self.relu_3 = nn.ReLU()\n",
        "\n",
        "        ### 4th hidden layer: 100 --> 100\n",
        "        self.linear_4 = nn.Linear(num_hidden, num_hidden)\n",
        "        ### Non-linearity in 4th hidden layer\n",
        "        self.relu_4 = nn.ReLU()\n",
        "\n",
        "\n",
        "        ### Output layer: 100 --> 10\n",
        "        self.linear_out = nn.Linear(num_hidden, num_classes)\n",
        "\n",
        "    def forward(self, x):\n",
        "        ### 1st hidden layer\n",
        "        # x = x.view(x.shape[0], -1)\n",
        "        out  = self.linear_1(x)\n",
        "        ### Non-linearity in 1st hidden layer\n",
        "        out = self.relu_1(out)\n",
        "        \n",
        "        ### 2nd hidden layer\n",
        "        out  = self.linear_2(out)\n",
        "        ### Non-linearity in 2nd hidden layer\n",
        "        out = self.relu_2(out)\n",
        "\n",
        "        ### 3rd hidden layer\n",
        "        out  = self.linear_3(out)\n",
        "        ### Non-linearity in 3rd hidden layer\n",
        "        out = self.relu_3(out)\n",
        "\n",
        "        ### 4th hidden layer\n",
        "        out  = self.linear_4(out)\n",
        "        ### Non-linearity in 4th hidden layer\n",
        "        out = self.relu_4(out)\n",
        "\n",
        "        \n",
        "        # Linear layer (output)\n",
        "        probas  = self.linear_out(out)\n",
        "        return probas\n",
        "\n",
        "# INSTANTIATE MODEL CLASS\n",
        "\n",
        "model = DeepNeuralNetworkModel(input_size = input_dim,\n",
        "                               num_classes = output_dim,\n",
        "                               num_hidden = num_hidden)\n",
        "\n",
        "\n",
        "# To enable GPU\n",
        "model.to(device)\n",
        "\n",
        "criterion = nn.CrossEntropyLoss()\n",
        "optimizer = torch.optim.SGD(model.parameters(), lr=learning_rate)"
      ],
      "execution_count": null,
      "outputs": []
    },
    {
      "cell_type": "code",
      "metadata": {
        "id": "zPYYPd_HA4Bs",
        "colab": {
          "base_uri": "https://localhost:8080/"
        },
        "outputId": "a9f34695-efdd-4ad2-e003-e86d99983171"
      },
      "source": [
        "iter = 0\n",
        "for epoch in range(num_epochs):\n",
        "    for i, (images, labels) in enumerate(train_loader):\n",
        "\n",
        "        images = images.view(-1, 28*28).to(device)\n",
        "        labels = labels.to(device)\n",
        "\n",
        "        # Clear gradients w.r.t. parameters\n",
        "        optimizer.zero_grad()\n",
        "\n",
        "        # Forward pass to get output/logits\n",
        "        outputs = model(images) \n",
        "\n",
        "        # Calculate Loss: softmax --> cross entropy loss\n",
        "        loss = criterion(outputs, labels)\n",
        "\n",
        "        # Getting gradients w.r.t. parameters\n",
        "        loss.backward()\n",
        "\n",
        "        # Updating parameters\n",
        "        optimizer.step()\n",
        "\n",
        "        iter += 1\n",
        "        if iter % 100 == 0:\n",
        "            print(\"\\r>> Current Iteration {}\".format(iter+1),end='')\n",
        "\n",
        "        if iter % 500 == 0:\n",
        "            # Calculate Accuracy         \n",
        "            correct = 0\n",
        "            total = 0\n",
        "            # Iterate through test dataset\n",
        "            for images, labels in test_loader:\n",
        "               \n",
        "                images = images.view(-1, 28*28).to(device)\n",
        "\n",
        "                # Forward pass only to get logits/output\n",
        "                outputs = model(images)\n",
        "\n",
        "                # Get predictions from the maximum value\n",
        "                _, predicted = torch.max(outputs, 1)\n",
        "\n",
        "                # Total number of labels\n",
        "                total += labels.size(0)\n",
        "\n",
        "\n",
        "                # Total correct predictions\n",
        "                if torch.cuda.is_available():\n",
        "                    correct += (predicted.cpu() == labels.cpu()).sum() \n",
        "                else:\n",
        "                    correct += (predicted == labels).sum()\n",
        "\n",
        "            accuracy = 100 * correct.item() / total\n",
        "\n",
        "            iteration_loss.append(loss.item())\n",
        "            accuracy_l.append(accuracy)\n",
        "\n",
        "            # Print Loss\n",
        "            print('\\nIteration: {}. Loss: {}. Accuracy: {}'.format(iter, loss.item(), accuracy))"
      ],
      "execution_count": null,
      "outputs": [
        {
          "output_type": "stream",
          "name": "stdout",
          "text": [
            ">> Current Iteration 501\n",
            "Iteration: 500. Loss: 0.4581525921821594. Accuracy: 84.99\n",
            ">> Current Iteration 1001\n",
            "Iteration: 1000. Loss: 0.37356311082839966. Accuracy: 86.56\n",
            ">> Current Iteration 1501\n",
            "Iteration: 1500. Loss: 0.2464427798986435. Accuracy: 88.35\n",
            ">> Current Iteration 2001\n",
            "Iteration: 2000. Loss: 0.2122984379529953. Accuracy: 88.15\n",
            ">> Current Iteration 2501\n",
            "Iteration: 2500. Loss: 0.2520897388458252. Accuracy: 89.04\n",
            ">> Current Iteration 3001\n",
            "Iteration: 3000. Loss: 0.24848513305187225. Accuracy: 88.87\n",
            ">> Current Iteration 3501\n",
            "Iteration: 3500. Loss: 0.2410568743944168. Accuracy: 88.95\n",
            ">> Current Iteration 4001\n",
            "Iteration: 4000. Loss: 0.25060543417930603. Accuracy: 87.98\n",
            ">> Current Iteration 4501\n",
            "Iteration: 4500. Loss: 0.13588456809520721. Accuracy: 88.02\n",
            ">> Current Iteration 5001\n",
            "Iteration: 5000. Loss: 0.2235276848077774. Accuracy: 88.36\n",
            ">> Current Iteration 5501\n",
            "Iteration: 5500. Loss: 0.2498726099729538. Accuracy: 88.79\n",
            ">> Current Iteration 6001\n",
            "Iteration: 6000. Loss: 0.17437364161014557. Accuracy: 88.43\n",
            ">> Current Iteration 6501\n",
            "Iteration: 6500. Loss: 0.09578438848257065. Accuracy: 89.65\n",
            ">> Current Iteration 7001\n",
            "Iteration: 7000. Loss: 0.10624004155397415. Accuracy: 88.76\n",
            ">> Current Iteration 7501\n",
            "Iteration: 7500. Loss: 0.1491822451353073. Accuracy: 89.62\n",
            ">> Current Iteration 8001\n",
            "Iteration: 8000. Loss: 0.09709233045578003. Accuracy: 89.75\n",
            ">> Current Iteration 8501\n",
            "Iteration: 8500. Loss: 0.2040514200925827. Accuracy: 89.25\n",
            ">> Current Iteration 9001\n",
            "Iteration: 9000. Loss: 0.15087251365184784. Accuracy: 88.98\n",
            ">> Current Iteration 9501\n",
            "Iteration: 9500. Loss: 0.1819300800561905. Accuracy: 88.89\n",
            ">> Current Iteration 10001\n",
            "Iteration: 10000. Loss: 0.08567766845226288. Accuracy: 89.4\n",
            ">> Current Iteration 10501\n",
            "Iteration: 10500. Loss: 0.13044458627700806. Accuracy: 88.59\n",
            ">> Current Iteration 11001\n",
            "Iteration: 11000. Loss: 0.07607650756835938. Accuracy: 89.65\n",
            ">> Current Iteration 11501\n",
            "Iteration: 11500. Loss: 0.0887734442949295. Accuracy: 89.49\n",
            ">> Current Iteration 12001\n",
            "Iteration: 12000. Loss: 0.0621262826025486. Accuracy: 89.59\n",
            ">> Current Iteration 12501\n",
            "Iteration: 12500. Loss: 0.052435584366321564. Accuracy: 90.17\n",
            ">> Current Iteration 13001\n",
            "Iteration: 13000. Loss: 0.055505942553281784. Accuracy: 89.81\n",
            ">> Current Iteration 13501\n",
            "Iteration: 13500. Loss: 0.04237997531890869. Accuracy: 89.46\n",
            ">> Current Iteration 14001\n",
            "Iteration: 14000. Loss: 0.05511074513196945. Accuracy: 89.66\n",
            ">> Current Iteration 14501\n",
            "Iteration: 14500. Loss: 0.046390172094106674. Accuracy: 90.07\n",
            ">> Current Iteration 15001\n",
            "Iteration: 15000. Loss: 0.07749655097723007. Accuracy: 88.22\n",
            ">> Current Iteration 15501\n",
            "Iteration: 15500. Loss: 0.020758485421538353. Accuracy: 89.86\n",
            ">> Current Iteration 16001\n",
            "Iteration: 16000. Loss: 0.006057323422282934. Accuracy: 90.4\n",
            ">> Current Iteration 16501\n",
            "Iteration: 16500. Loss: 0.02045075222849846. Accuracy: 90.27\n",
            ">> Current Iteration 17001\n",
            "Iteration: 17000. Loss: 0.01620495319366455. Accuracy: 90.06\n",
            ">> Current Iteration 17501\n",
            "Iteration: 17500. Loss: 0.014558378607034683. Accuracy: 90.04\n",
            ">> Current Iteration 18001\n",
            "Iteration: 18000. Loss: 0.11248462647199631. Accuracy: 89.08\n",
            ">> Current Iteration 18501\n",
            "Iteration: 18500. Loss: 0.0400172621011734. Accuracy: 90.24\n",
            ">> Current Iteration 19001\n",
            "Iteration: 19000. Loss: 0.008868311531841755. Accuracy: 90.14\n",
            ">> Current Iteration 19501\n",
            "Iteration: 19500. Loss: 0.024075446650385857. Accuracy: 90.11\n",
            ">> Current Iteration 20001\n",
            "Iteration: 20000. Loss: 0.013702401891350746. Accuracy: 90.49\n",
            ">> Current Iteration 20501\n",
            "Iteration: 20500. Loss: 0.002900101011618972. Accuracy: 90.45\n",
            ">> Current Iteration 21001\n",
            "Iteration: 21000. Loss: 0.004780094139277935. Accuracy: 90.57\n",
            ">> Current Iteration 21501\n",
            "Iteration: 21500. Loss: 0.001879674382507801. Accuracy: 90.52\n",
            ">> Current Iteration 22001\n",
            "Iteration: 22000. Loss: 0.0019314187811687589. Accuracy: 90.57\n",
            ">> Current Iteration 22501\n",
            "Iteration: 22500. Loss: 0.0014975059311836958. Accuracy: 90.6\n",
            ">> Current Iteration 23001\n",
            "Iteration: 23000. Loss: 0.0008568083285354078. Accuracy: 90.57\n",
            ">> Current Iteration 23501\n",
            "Iteration: 23500. Loss: 0.0008403442916460335. Accuracy: 90.63\n",
            ">> Current Iteration 24001\n",
            "Iteration: 24000. Loss: 0.0007196803344413638. Accuracy: 90.62\n",
            ">> Current Iteration 24501\n",
            "Iteration: 24500. Loss: 0.000664315652102232. Accuracy: 90.66\n",
            ">> Current Iteration 25001\n",
            "Iteration: 25000. Loss: 0.0010199702810496092. Accuracy: 90.62\n",
            ">> Current Iteration 25501\n",
            "Iteration: 25500. Loss: 0.0007189735770225525. Accuracy: 90.64\n",
            ">> Current Iteration 26001\n",
            "Iteration: 26000. Loss: 0.00044491776498034596. Accuracy: 90.57\n",
            ">> Current Iteration 26501\n",
            "Iteration: 26500. Loss: 0.00090667640324682. Accuracy: 90.59\n",
            ">> Current Iteration 27001\n",
            "Iteration: 27000. Loss: 0.0008017871296033263. Accuracy: 90.61\n",
            ">> Current Iteration 27501\n",
            "Iteration: 27500. Loss: 0.0005956281092949212. Accuracy: 90.65\n",
            ">> Current Iteration 28001\n",
            "Iteration: 28000. Loss: 0.0004164810525253415. Accuracy: 90.62\n",
            ">> Current Iteration 28501\n",
            "Iteration: 28500. Loss: 0.0005439414526335895. Accuracy: 90.63\n",
            ">> Current Iteration 29001\n",
            "Iteration: 29000. Loss: 0.0004498972848523408. Accuracy: 90.56\n",
            ">> Current Iteration 29501\n",
            "Iteration: 29500. Loss: 0.0005354761378839612. Accuracy: 90.63\n",
            ">> Current Iteration 30001\n",
            "Iteration: 30000. Loss: 0.0006074298289604485. Accuracy: 90.63\n",
            ">> Current Iteration 30501\n",
            "Iteration: 30500. Loss: 0.0003103871422354132. Accuracy: 90.66\n",
            ">> Current Iteration 31001\n",
            "Iteration: 31000. Loss: 0.0003380338894203305. Accuracy: 90.63\n",
            ">> Current Iteration 31501\n",
            "Iteration: 31500. Loss: 0.0003891725791618228. Accuracy: 90.65\n",
            ">> Current Iteration 32001\n",
            "Iteration: 32000. Loss: 0.0003690274024847895. Accuracy: 90.67\n",
            ">> Current Iteration 32501\n",
            "Iteration: 32500. Loss: 0.00021756540809292346. Accuracy: 90.66\n",
            ">> Current Iteration 33001\n",
            "Iteration: 33000. Loss: 0.000196100227185525. Accuracy: 90.6\n",
            ">> Current Iteration 33501\n",
            "Iteration: 33500. Loss: 0.0004438510222826153. Accuracy: 90.66\n",
            ">> Current Iteration 34001\n",
            "Iteration: 34000. Loss: 0.00021790209575556219. Accuracy: 90.66\n",
            ">> Current Iteration 34501\n",
            "Iteration: 34500. Loss: 0.000490028178319335. Accuracy: 90.64\n",
            ">> Current Iteration 34801"
          ]
        }
      ]
    },
    {
      "cell_type": "code",
      "metadata": {
        "colab": {
          "base_uri": "https://localhost:8080/",
          "height": 279
        },
        "id": "ZKNWUZPgaXno",
        "outputId": "174211ef-f5cb-48e3-c468-51af9396bf8e"
      },
      "source": [
        "import matplotlib\n",
        "import matplotlib.pyplot as plt\n",
        "\n",
        "plt.plot(iteration_loss)\n",
        "plt.ylabel('Cross Entropy Loss')\n",
        "plt.xlabel('Iteration (in every 500)')\n",
        "plt.show()"
      ],
      "execution_count": null,
      "outputs": [
        {
          "output_type": "display_data",
          "data": {
            "image/png": "[encoded data removed]",
            "text/plain": [
              "<Figure size 432x288 with 1 Axes>"
            ]
          },
          "metadata": {
            "needs_background": "light"
          }
        }
      ]
    },
    {
      "cell_type": "code",
      "metadata": {
        "id": "0DpZqAwsExzN"
      },
      "source": [
        "save_model = True\n",
        "\n",
        "if save_model is True:\n",
        "\n",
        "    torch.save(model.state_dict(), 'exp_03_2.pkl')"
      ],
      "execution_count": null,
      "outputs": []
    },
    {
      "cell_type": "code",
      "metadata": {
        "colab": {
          "base_uri": "https://localhost:8080/"
        },
        "id": "ZR3NYnA0Zxni",
        "outputId": "c2cea8c7-e9bd-458a-c65e-a02e249c174e"
      },
      "source": [
        "load_model = True\n",
        "\n",
        "if load_model is True:\n",
        "    model.load_state_dict(torch.load('/content/exp_03_2.pkl'))\n",
        "    print('Trained Model Loaded')"
      ],
      "execution_count": null,
      "outputs": [
        {
          "output_type": "stream",
          "name": "stdout",
          "text": [
            "Trained Model Loaded\n"
          ]
        }
      ]
    },
    {
      "cell_type": "code",
      "metadata": {
        "colab": {
          "base_uri": "https://localhost:8080/",
          "height": 80
        },
        "id": "ddLip39GZzi6",
        "outputId": "9aa07729-438d-41dc-a18e-e327a01c5cc5"
      },
      "source": [
        "for images, labels in test_loader:\n",
        "    break\n",
        "    \n",
        "fig, ax = plt.subplots(1, 10)\n",
        "for i in range(10):\n",
        "    ax[i].imshow(images[i].view(28, 28), cmap=matplotlib.cm.binary)\n",
        "\n",
        "plt.show()"
      ],
      "execution_count": null,
      "outputs": [
        {
          "output_type": "display_data",
          "data": {
            "image/png": "[encoded data removed]",
            "text/plain": [
              "<Figure size 432x288 with 10 Axes>"
            ]
          },
          "metadata": {
            "needs_background": "light"
          }
        }
      ]
    },
    {
      "cell_type": "code",
      "metadata": {
        "colab": {
          "base_uri": "https://localhost:8080/"
        },
        "id": "V6pL860PaNvt",
        "outputId": "0cf06b67-a85b-45e9-c342-ea026b2524d2"
      },
      "source": [
        "predictions = model.forward(images[:10].view(-1, 28*28).to(device))\n",
        "predictions = torch.argmax(predictions, dim=1)\n",
        "print('Predicted labels', predictions.cpu().numpy())"
      ],
      "execution_count": null,
      "outputs": [
        {
          "output_type": "stream",
          "name": "stdout",
          "text": [
            "Predicted labels [0 1 2 2 2 6 8 2 5 0]\n"
          ]
        }
      ]
    }
  ]
}